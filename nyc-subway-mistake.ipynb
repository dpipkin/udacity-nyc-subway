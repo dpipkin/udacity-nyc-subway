{
 "cells": [
  {
   "cell_type": "markdown",
   "metadata": {},
   "source": [
    "<p style=\"text-align: right;\">Daniel Pipkin - Oct 2015</p>"
   ]
  },
  {
   "cell_type": "markdown",
   "metadata": {},
   "source": [
    "# Analyzing NYC Subway Data and Weather"
   ]
  },
  {
   "cell_type": "code",
   "execution_count": 1,
   "metadata": {
    "collapsed": false
   },
   "outputs": [],
   "source": [
    "%matplotlib inline\n",
    "import matplotlib.pyplot as plt\n",
    "import pandas as pd\n",
    "import numpy as np\n",
    "from ggplot import *\n",
    "from scipy import stats\n",
    "import datetime"
   ]
  },
  {
   "cell_type": "code",
   "execution_count": 2,
   "metadata": {
    "collapsed": true
   },
   "outputs": [],
   "source": [
    "df = pd.read_csv('turnstile_weather_v2.csv')"
   ]
  },
  {
   "cell_type": "markdown",
   "metadata": {},
   "source": [
    "In 2014 the New York City subway system averaged 5,597,551 riders on a weekday; weekends were even higher.<sup>1</sup> With such a large group of people, this can be a useful dataset to study motivations behind using public transit. Do people ride more on weekends? How many riders do we get on the weekends and nights? Are most people commuting to work? How much traffic do the subway lines get on a full moon? It can be fun to look at whether or not these conditions affect rider behavior. However, care must be taken to make sure we are drawing accurate conclusions."
   ]
  },
  {
   "cell_type": "markdown",
   "metadata": {},
   "source": [
    "## What are we trying to answer?"
   ]
  },
  {
   "cell_type": "markdown",
   "metadata": {},
   "source": [
    "There are so many questions that can be asked, so let's narrow the scope. Combining weather data with rider data that the Metropolitan Transportation Authority (MTA) supplies, we can test the relationship between rain and the volume of riders on the underground transit.  \n",
    "I spent about a week in New York one summer and I remember things in Manhattan being fairly close &mdash; close enough to walk. Distance wasn't a problem. Melting in the urban heat island was. I can see why people would ride the subway to escape the doom from above.  \n",
    "\"Hot\" can be difficult to classify. Do we put a cutoff at 90&deg;F or 95&deg;F? However, it's pretty obvious when it rains. The clean, tidy data from Udacity gives us a very clear idea of what days it rained. Enough rambling, here's the question:  \n",
    "  \n",
    "**Does rain increase the MTA subway ridership?**  \n"
   ]
  },
  {
   "cell_type": "code",
   "execution_count": 18,
   "metadata": {
    "collapsed": false
   },
   "outputs": [
    {
     "name": "stdout",
     "output_type": "stream",
     "text": [
      "[0 1]\n"
     ]
    }
   ],
   "source": [
    "# It either rained or it didn't\n",
    "print df.rain.unique()"
   ]
  },
  {
   "cell_type": "markdown",
   "metadata": {},
   "source": [
    "## Proving ourselves wrong"
   ]
  },
  {
   "cell_type": "markdown",
   "metadata": {},
   "source": [
    "Let's start with the idea that rain doesn't affect ridership at all.  \n",
    "More specifically, we'll say that the average hourly entries of rainy days and non-rainy days are the same. This is our [null hypothesis](https://en.wikipedia.org/wiki/Null_hypothesis).  \n",
    "**H<sub>0</sub>: &mu;<sub>r</sub> = &mu;<sub>n</sub>**  \n",
    "**where &mu;<sub>r</sub> and &mu;<sub>n</sub> are the averages of rainy and non-rainy days respectively*  \n",
    "  \n",
    "Now if we find enough evidence against that statement, we can confidently say that there are more riders on average on rainy days, or:  \n",
    "**H<sub>A</sub>: &mu;<sub>r</sub> > &mu;<sub>n</sub>**  "
   ]
  },
  {
   "cell_type": "markdown",
   "metadata": {},
   "source": [
    "How confident should we be? I am going to take the conservative approach and say that I want to be 99% sure that it changes riders' behavior.  \n",
    "In statistical language, this means that we have **&alpha; = 0.01**. Because we are assuming<sup>2</sup> that the averages are the same, if we are wrong we want strong evidence. We would hate to look wrong in front of our friends."
   ]
  },
  {
   "cell_type": "markdown",
   "metadata": {},
   "source": [
    "## Testing... testing..."
   ]
  },
  {
   "cell_type": "markdown",
   "metadata": {},
   "source": [
    "There are many ways to test our hypothesis, only some are good tests. First, we have to check if our data is normally distributed."
   ]
  },
  {
   "cell_type": "code",
   "execution_count": 44,
   "metadata": {
    "collapsed": false
   },
   "outputs": [
    {
     "data": {
      "image/png": "[encoded data removed]",
      "text/plain": [
       "<matplotlib.figure.Figure at 0x1f535240>"
      ]
     },
     "metadata": {},
     "output_type": "display_data"
    },
    {
     "name": "stdout",
     "output_type": "stream",
     "text": [
      "The chances that our data is normally distributed: 0.0 %\n"
     ]
    }
   ],
   "source": [
    "stats.probplot(df['ENTRIESn_hourly'], plot=plt)\n",
    "plt.show()\n",
    "W, p = stats.shapiro(df['ENTRIESn_hourly'])\n",
    "print \"The chances that our data is normally distributed:\", p * 100, \"%\""
   ]
  },
  {
   "cell_type": "markdown",
   "metadata": {},
   "source": [
    "Oh no! Looks like we are going to need a non-parametric test.<sup>3</sup> A popular non-parametric test is the Mann-Whitney U-test. We can use this test to see if two samples came from the same population. In other words, it will tell us whether or not our rain/non-rainy days have any difference."
   ]
  },
  {
   "cell_type": "code",
   "execution_count": 47,
   "metadata": {
    "collapsed": false
   },
   "outputs": [
    {
     "data": {
      "text/plain": [
       "MannwhitneyuResult(statistic=153635120.5, pvalue=nan)"
      ]
     },
     "execution_count": 47,
     "metadata": {},
     "output_type": "execute_result"
    }
   ],
   "source": [
    "rainy_entries = df[df['rain'] == 1]['ENTRIESn_hourly']\n",
    "non_rainy_entries = df[df['rain'] == 0]['ENTRIESn_hourly']\n",
    "stats.mannwhitneyu(rainy_entries, non_rainy_entries)"
   ]
  },
  {
   "cell_type": "markdown",
   "metadata": {},
   "source": [
    "Because the `scipy.stats` implementation is giving us trouble with the p-value, we can use the normal approximation of U.<sup>4</sup> "
   ]
  },
  {
   "cell_type": "code",
   "execution_count": 50,
   "metadata": {
    "collapsed": false
   },
   "outputs": [
    {
     "name": "stdout",
     "output_type": "stream",
     "text": [
      "5.48269387142e-06\n"
     ]
    }
   ],
   "source": [
    "# Calculate Z\n",
    "x = rainy_entries\n",
    "y= non_rainy_entries\n",
    "m_u = len(x)*len(y)/2\n",
    "sigma_u = np.sqrt(len(x)*len(y)*(len(x)+len(y)+1)/12)\n",
    "z = (u - m_u)/sigma_u\n",
    "\n",
    "pval = 2*stats.norm.cdf(z)\n",
    "print pval"
   ]
  },
  {
   "cell_type": "markdown",
   "metadata": {},
   "source": [
    "Here, our p-value is much less than our **&alpha;** (0.00000548) so we can say with confidence that our populations are different. Now let's see who has the higher average."
   ]
  },
  {
   "cell_type": "code",
   "execution_count": 54,
   "metadata": {
    "collapsed": false
   },
   "outputs": [
    {
     "name": "stdout",
     "output_type": "stream",
     "text": [
      "rainy average: 2028.19603547\n",
      "non-rainy average: 1845.53943866\n"
     ]
    }
   ],
   "source": [
    "print \"rainy average:\", np.mean(rainy_entries)\n",
    "print \"non-rainy average:\", np.mean(non_rainy_entries)"
   ]
  },
  {
   "cell_type": "markdown",
   "metadata": {},
   "source": [
    "With all of this evidence, we can say with a 99% confidence that rainy days have a higher average rider volume than non-rainy days! \\\\(^-^)/. I guess being wrong isn't always so bad."
   ]
  },
  {
   "cell_type": "markdown",
   "metadata": {},
   "source": [
    "## Linear Regression"
   ]
  },
  {
   "cell_type": "markdown",
   "metadata": {},
   "source": [
    "---"
   ]
  },
  {
   "cell_type": "code",
   "execution_count": 4,
   "metadata": {
    "collapsed": false
   },
   "outputs": [
    {
     "data": {
      "image/png": "[encoded data removed]",
      "text/plain": [
       "<matplotlib.figure.Figure at 0x3e19710>"
      ]
     },
     "metadata": {},
     "output_type": "display_data"
    }
   ],
   "source": [
    "rainy = df[df['rain'] == 1]['ENTRIESn_hourly']\n",
    "non_rainy = df[df['rain'] == 0]['ENTRIESn_hourly']\n",
    "\n",
    "plt.figure()\n",
    "non_rainy.hist()\n",
    "rainy.hist()\n",
    "plt.savefig('histograms.png', format='png')"
   ]
  },
  {
   "cell_type": "markdown",
   "metadata": {},
   "source": [
    "## References"
   ]
  },
  {
   "cell_type": "markdown",
   "metadata": {},
   "source": [
    "1. [MTA - Introduction to Subway Ridership](http://web.mta.info/nyct/facts/ridership/) &ndash; Accessed 16 Oct 2015\n",
    "2. https://xkcd.com/1339/\n",
    "3. [Nonparametric statistics](https://en.wikipedia.org/wiki/Nonparametric_statistics#Definitions)  &ndash; Accessed 16 Oct 2015\n",
    "4. http://stats.stackexchange.com/questions/116315/problem-with-mann-whitney-u-test-in-scipy#116332"
   ]
  }
 ],
 "metadata": {
  "kernelspec": {
   "display_name": "Python 2",
   "language": "python",
   "name": "python2"
  },
  "language_info": {
   "codemirror_mode": {
    "name": "ipython",
    "version": 2
   },
   "file_extension": ".py",
   "mimetype": "text/x-python",
   "name": "python",
   "nbconvert_exporter": "python",
   "pygments_lexer": "ipython2",
   "version": "2.7.10"
  }
 },
 "nbformat": 4,
 "nbformat_minor": 0
}
